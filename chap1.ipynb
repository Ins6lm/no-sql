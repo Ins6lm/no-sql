{
 "cells": [
  {
   "cell_type": "code",
   "execution_count": null,
   "metadata": {},
   "outputs": [],
   "source": [
    "import pandas as pd\n",
    "import sqlite3\n",
    "import tqdm\n",
    "import random\n",
    "\n",
    "# Exercise\n",
    "\n",
    "# 1\n",
    "\n",
    "\n",
    "df = pd.read_csv(\"data/Chap1/bc.csv\")\n",
    "\n",
    "print(len(df.axes[0]))\n",
    "\n",
    "print(len(df.axes[1]))"
   ]
  },
  {
   "cell_type": "code",
   "execution_count": null,
   "metadata": {},
   "outputs": [],
   "source": [
    "#2\n",
    "conn = sqlite3.connect('data/bc.db')\n",
    "c = conn.cursor()"
   ]
  },
  {
   "cell_type": "code",
   "execution_count": null,
   "metadata": {},
   "outputs": [],
   "source": [
    "#3\n",
    "def create_table():\n",
    "    try:\n",
    "        c.execute(\"\"\"CREATE TABLE IF NOT EXISTS tomatch(id_ INT PRIMARY KEY, \"rdm_float\" FLOAT)\"\"\")\n",
    "        conn.commit()\n",
    "    except Exception as e:\n",
    "        print(str(e))\n",
    "        \n",
    "create_table()"
   ]
  },
  {
   "cell_type": "code",
   "execution_count": null,
   "metadata": {},
   "outputs": [],
   "source": [
    "#4\n",
    "query = \"\"\"INSERT INTO tomatch(id_,rdm_float) VALUES (?,random())\"\"\"\n",
    "\n",
    "list_of_insertion = []\n",
    "for i in tqdm.tqdm(range(50000,10000000,2)):\n",
    "    values = (i,)\n",
    "    list_of_insertion.append(values)\n",
    "    if len(list_of_insertion) == 10000:\n",
    "        c.executemany(query, list_of_insertion)\n",
    "        conn.commit()\n",
    "        list_of_insertion = []"
   ]
  },
  {
   "cell_type": "code",
   "execution_count": null,
   "metadata": {},
   "outputs": [],
   "source": [
    "#5\n",
    "c.execute(\"\"\"SELECT avg(rdm_float), count(rdm_float), max(rdm_float), min(rdm_float), sum(rdm_float) FROM bc\n",
    "             INNER JOIN tomatch ON tomatch.id_=bc.id\"\"\")\n",
    "\n",
    "docs = c.fetchall()\n",
    "print(docs)"
   ]
  },
  {
   "cell_type": "code",
   "execution_count": null,
   "metadata": {},
   "outputs": [],
   "source": [
    "#6\n",
    "             WHERE \"radius_mean\" > 15\"\"\")\n",
    "docs2 = c.fetchall()\n",
    "print(docs2)\n",
    "\n",
    "c.execute(\"\"\"SELECT count(texture_mean) FROM bc\n",
    "             WHERE \"radius_mean\" > 15 AND \"texture_mean\" > 20\"\"\")\n",
    "docs3 = c.fetchall()\n",
    "print(docs3)"
   ]
  },
  {
   "cell_type": "code",
   "execution_count": null,
   "metadata": {},
   "outputs": [],
   "source": [
    "#7\n",
    "c.execute(\"\"\"SELECT diagnosis, round(avg(radius_mean),2) FROM bc GROUP BY diagnosis\"\"\")\n",
    "docs4 = c.fetchall()\n",
    "print(docs4)\n",
    "print(round((docs4[1][1] - docs4[0][1]),2))"
   ]
  },
  {
   "cell_type": "code",
   "execution_count": null,
   "metadata": {},
   "outputs": [],
   "source": [
    "#8\n",
    "c.execute(\"\"\"ALTER TABLE bc RENAME COLUMN diagnosis TO label\"\"\")\n",
    "conn.commit()"
   ]
  },
  {
   "cell_type": "code",
   "execution_count": null,
   "metadata": {},
   "outputs": [],
   "source": [
    "#9\n",
    "c.execute(\"\"\"ALTER TABLE bc ADD day DATE\"\"\")\n",
    "conn.commit()"
   ]
  },
  {
   "cell_type": "code",
   "execution_count": null,
   "metadata": {},
   "outputs": [],
   "source": [
    "#10\n",
    "c.execute(\"ALTER TABLE bc ADD COLUMN area_mean_integer INTEGER\")\n",
    "conn.commit()\n",
    "c.execute(\"UPDATE bc SET area_mean_integer = CAST(area_mean AS INTEGER)\")\n",
    "conn.commit()"
   ]
  },
  {
   "cell_type": "code",
   "execution_count": null,
   "metadata": {},
   "outputs": [],
   "source": [
    "#11\n",
    "c.execute(\"\"\"CREATE TABLE IF NOT EXISTS tomatch2(id_ INT PRIMARY KEY, \"rdm_float\" FLOAT)\"\"\")\n",
    "conn.commit()\n",
    "\n",
    "query = \"\"\"INSERT INTO tomatch2(id_,rdm_float) VALUES (?,random())\"\"\"\n",
    "\n",
    "list_of_insertion = []\n",
    "for i in tqdm.tqdm(range(50000,10000000,10)):\n",
    "    values = (i,)\n",
    "    list_of_insertion.append(values)\n",
    "    if len(list_of_insertion) == 10000:\n",
    "        c.executemany(query, list_of_insertion)\n",
    "        conn.commit()\n",
    "        list_of_insertion = []"
   ]
  },
  {
   "cell_type": "code",
   "execution_count": null,
   "metadata": {},
   "outputs": [],
   "source": [
    "#12\n",
    "c.execute(\"\"\"SELECT * FROM bc\n",
    "             INNER JOIN tomatch2 ON tomatch2.id_ = bc.id\n",
    "             INNER JOIN tomatch ON tomatch.id_ = bc.id\n",
    "             WHERE bc.radius_mean > 15\n",
    "             AND tomatch.rdm_float > 0.5\n",
    "             AND tomatch2.rdm_float > 0.5\"\"\")\n",
    "docs5 = c.fetchall()\n",
    "print(docs5)"
   ]
  },
  {
   "cell_type": "code",
   "execution_count": null,
   "metadata": {},
   "outputs": [],
   "source": [
    "# mySQL\n",
    "#1\n",
    "\n",
    "import mysql.connector\n",
    "\n",
    "mydb = mysql.connector.connect(\n",
    "    host=\"localhost\",\n",
    "    user=\"root\",\n",
    "    password=\"root\",\n",
    "    database=\"example\"\n",
    ")\n",
    "\n",
    "c = mydb.cursor()\n",
    "c.execute( \"\"\"\n",
    "    SELECT COUNT(*)\n",
    "    FROM sample_superstore\n",
    "\"\"\")\n",
    "\n",
    "c.fetchone()[0] "
   ]
  },
  {
   "cell_type": "code",
   "execution_count": null,
   "metadata": {},
   "outputs": [],
   "source": [
    "#2\n",
    "c.execute(\"\"\"SELECT SUM('Sales') AS total_sales\n",
    "             FROM sample_superstore\"\"\")\n",
    "\n",
    "c.fetchone()[0]"
   ]
  },
  {
   "cell_type": "code",
   "execution_count": null,
   "metadata": {},
   "outputs": [],
   "source": [
    "#3\n",
    "c.execute( \"\"\"\n",
    "    SELECT AVG(Profit)\n",
    "    FROM sample_superstore\n",
    "\"\"\")\n",
    "\n",
    "c.fetchone()[0]"
   ]
  },
  {
   "cell_type": "code",
   "execution_count": null,
   "metadata": {},
   "outputs": [],
   "source": [
    "#4\n",
    "c.execute(\"\"\"\n",
    "    SELECT 'Customer Name', COUNT(*) AS order_count\n",
    "    FROM sample_superstore\n",
    "    GROUP BY 'Customer ID', 'Customer Name'\n",
    "    ORDER BY order_count DESC\n",
    "    LIMIT 1\n",
    "\"\"\")\n",
    "\n",
    "c.fetchone()"
   ]
  },
  {
   "cell_type": "code",
   "execution_count": null,
   "metadata": {},
   "outputs": [],
   "source": [
    "#5\n",
    "c.execute( \"\"\"\n",
    "    SELECT 'Product Category', SUM(Profit)\n",
    "    FROM sample_superstore\n",
    "    GROUP BY 'Product Category'\n",
    "\"\"\")\n",
    "\n",
    "c.fetchall()\n"
   ]
  },
  {
   "cell_type": "code",
   "execution_count": null,
   "metadata": {},
   "outputs": [],
   "source": [
    "#6\n",
    "c.execute(\"\"\"\n",
    "    SELECT AVG('Discount') AS average_discount\n",
    "    FROM sample_superstore\n",
    "\"\"\")\n",
    "\n",
    "c.fetchone()[0]* 100 "
   ]
  },
  {
   "cell_type": "code",
   "execution_count": null,
   "metadata": {},
   "outputs": [],
   "source": [
    "#7\n",
    "c.execute( \"\"\"\n",
    "    SELECT Region, SUM(Sales) \n",
    "    FROM sample_superstore\n",
    "    GROUP BY Region\n",
    "    ORDER BY SUM(Sales) DESC\n",
    "    LIMIT 1;\n",
    "\"\"\")\n",
    "\n",
    "count = c.fetchone()"
   ]
  },
  {
   "cell_type": "code",
   "execution_count": null,
   "metadata": {},
   "outputs": [],
   "source": [
    "#8\n",
    "c.execute( \"\"\"\n",
    "    SELECT 'Ship Mode', COUNT(*) \n",
    "    FROM sample_superstore\n",
    "    GROUP BY 'Ship Mode';\n",
    "\"\"\")\n",
    "\n",
    "c.fetchall()"
   ]
  },
  {
   "cell_type": "code",
   "execution_count": null,
   "metadata": {},
   "outputs": [],
   "source": [
    "#9\n",
    "c.execute(\"\"\"\n",
    "    SELECT 'Product Sub-Category', SUM('Quantity ordered new') AS total_Q_o_n\n",
    "    FROM sample_superstore\n",
    "    GROUP BY 'Product Sub-Category'\n",
    "    ORDER BY total_Q_o_n DESC\n",
    "\"\"\")\n",
    "\n",
    "c.fetchall()"
   ]
  },
  {
   "cell_type": "code",
   "execution_count": null,
   "metadata": {},
   "outputs": [],
   "source": [
    "#10\n",
    "c.execute(\"\"\"\n",
    "    SELECT 'Product Name',(SUM(Profit) / SUM(Sales)) AS profit_margin\n",
    "    FROM sample_superstore\n",
    "    GROUP BY 'Product Name'\n",
    "    ORDER BY profit_margin desc LIMIT 1;\n",
    "\"\"\")\n",
    "\n",
    "c.fetchone()"
   ]
  },
  {
   "cell_type": "code",
   "execution_count": null,
   "metadata": {},
   "outputs": [],
   "source": [
    "#12\n",
    "c.execute( \"\"\"\n",
    "    SELECT AVG(Sales), 'Customer Segment'\n",
    "    FROM sample_superstore\n",
    "    GROUP BY 'Customer Segment'\n",
    "    ORDER BY AVG(Sales) DESC\n",
    "    LIMIT 1;\n",
    "\"\"\")"
   ]
  }
 ],
 "metadata": {
  "language_info": {
   "name": "python"
  }
 },
 "nbformat": 4,
 "nbformat_minor": 2
}
